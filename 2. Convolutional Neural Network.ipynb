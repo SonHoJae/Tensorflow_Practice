{
 "cells": [
  {
   "cell_type": "code",
   "execution_count": 1,
   "metadata": {},
   "outputs": [],
   "source": [
    "%matplotlib inline\n",
    "import matplotlib.pyplot as plt\n",
    "import tensorflow as tf\n",
    "import numpy as np\n",
    "from sklearn.metrics import confusion_matrix\n",
    "import time\n",
    "from datetime import timedelta\n",
    "import math\n",
    "import numpy as np"
   ]
  },
  {
   "cell_type": "code",
   "execution_count": 2,
   "metadata": {},
   "outputs": [
    {
     "data": {
      "text/plain": [
       "'1.5.0'"
      ]
     },
     "execution_count": 2,
     "metadata": {},
     "output_type": "execute_result"
    }
   ],
   "source": [
    "tf.__version__"
   ]
  },
  {
   "cell_type": "code",
   "execution_count": 3,
   "metadata": {},
   "outputs": [],
   "source": [
    "# Convolutional Layer 1.\n",
    "filter_size1 = 5          # Convolution filters are 5 x 5 pixels.\n",
    "num_filters1 = 16         # There are 16 of these filters.\n",
    "\n",
    "# Convolutional Layer 2.\n",
    "filter_size2 = 5          # Convolution filters are 5 x 5 pixels.\n",
    "num_filters2 = 36         # There are 36 of these filters.\n",
    "\n",
    "# Fully-connected layer.\n",
    "fc_size = 128      "
   ]
  },
  {
   "cell_type": "code",
   "execution_count": 4,
   "metadata": {},
   "outputs": [],
   "source": [
    "# Simple CNN"
   ]
  },
  {
   "cell_type": "code",
   "execution_count": 5,
   "metadata": {},
   "outputs": [],
   "source": [
    "# Convolutional Layer 1.\n",
    "filter_size1 = 5          # Convolution filters are 5 x 5 pixels.\n",
    "num_filters1 = 16         # There are 16 of these filters.\n",
    "\n",
    "# Convolutional Layer 2.\n",
    "filter_size2 = 5          # Convolution filters are 5 x 5 pixels.\n",
    "num_filters2 = 36         # There are 36 of these filters.\n",
    "\n",
    "# Fully-connected layer.\n",
    "fc_size = 128             # Number of neurons in fully-connected layer."
   ]
  },
  {
   "cell_type": "code",
   "execution_count": 6,
   "metadata": {},
   "outputs": [
    {
     "name": "stdout",
     "output_type": "stream",
     "text": [
      "Extracting ./data/MNIST\\train-images-idx3-ubyte.gz\n",
      "Extracting ./data/MNIST\\train-labels-idx1-ubyte.gz\n",
      "Extracting ./data/MNIST\\t10k-images-idx3-ubyte.gz\n",
      "Extracting ./data/MNIST\\t10k-labels-idx1-ubyte.gz\n"
     ]
    }
   ],
   "source": [
    "from tensorflow.examples.tutorials.mnist import input_data\n",
    "data = input_data.read_data_sets(\"./data/MNIST\", one_hot=True)"
   ]
  },
  {
   "cell_type": "code",
   "execution_count": 7,
   "metadata": {},
   "outputs": [
    {
     "name": "stdout",
     "output_type": "stream",
     "text": [
      "Size of:\n",
      "- Training-set:\t\t55000\n",
      "- Validation-set:\t5000\n",
      "- Test-set:\t\t10000\n"
     ]
    }
   ],
   "source": [
    "print(\"Size of:\")\n",
    "print(\"- Training-set:\\t\\t{}\".format(len(data.train.labels)))\n",
    "print(\"- Validation-set:\\t{}\".format(len(data.validation.labels)))\n",
    "print(\"- Test-set:\\t\\t{}\".format(len(data.test.labels)))"
   ]
  },
  {
   "cell_type": "code",
   "execution_count": 8,
   "metadata": {},
   "outputs": [],
   "source": [
    "img_size = 28\n",
    "img_size_flat = img_size * img_size\n",
    "img_shape = (img_size, img_size)\n",
    "num_classes = 10\n",
    "num_channels = 1\n",
    "data.test.cls = np.array([label.argmax() for label in data.test.labels])"
   ]
  },
  {
   "cell_type": "code",
   "execution_count": 9,
   "metadata": {},
   "outputs": [],
   "source": [
    "def plot_images(images, cls_true, cls_pred=None):\n",
    "    assert len(images) == len(cls_true) == 9\n",
    "    \n",
    "    fig, axes = plt.subplots(3, 3)\n",
    "    fig.subplots_adjust(hspace=0.3, wspace =0.3) \n",
    "    for i, ax in enumerate(axes.flat): \n",
    "        ax.imshow(images[i].reshape(img_shape), cmap='binary')\n",
    "        \n",
    "        if cls_pred is None:\n",
    "            xlabel = \"True: {0}\".format(cls_true[i])\n",
    "        else:\n",
    "            xlabel = \"True: {0}, Pred: {1}\".format(cls_true[i], cls_pred[i])\n",
    "        \n",
    "        ax.set_xlabel(xlabel)\n",
    "        \n",
    "        ax.set_xticks([])\n",
    "        ax.set_yticks([])\n",
    "        \n",
    "    plt.show()"
   ]
  },
  {
   "cell_type": "code",
   "execution_count": 10,
   "metadata": {},
   "outputs": [
    {
     "data": {
      "image/png": "[encoded data removed]",
      "text/plain": [
       "<matplotlib.figure.Figure at 0x18c738fce48>"
      ]
     },
     "metadata": {},
     "output_type": "display_data"
    }
   ],
   "source": [
    "# Get the first images from the test-set.\n",
    "images = data.test.images[:9] \n",
    "# Get the true classes for those images.\n",
    "cls_true = data.test.cls[:9]  \n",
    "# Plot the images and labels using our helper-function above.\n",
    "plot_images(images=images, cls_true=cls_true)"
   ]
  },
  {
   "cell_type": "code",
   "execution_count": 11,
   "metadata": {},
   "outputs": [],
   "source": [
    "\n",
    "#     Placeholder variables used for inputting data to the graph.\n",
    "#     Variables that are going to be optimized so as to make the convolutional network perform better.\n",
    "#     The mathematical formulas for the convolutional network.\n",
    "#     A cost measure that can be used to guide the optimization of the variables.\n",
    "#     An optimization method which updates the variables.\n"
   ]
  },
  {
   "cell_type": "code",
   "execution_count": 12,
   "metadata": {},
   "outputs": [],
   "source": [
    "def new_weights(shape):\n",
    "    return tf.Variable(tf.truncated_normal(shape, stddev=0.05))"
   ]
  },
  {
   "cell_type": "code",
   "execution_count": 23,
   "metadata": {},
   "outputs": [],
   "source": [
    "def new_biases(length):\n",
    "    return tf.Variable(tf.constant(0.05, shape=[length]))"
   ]
  },
  {
   "cell_type": "code",
   "execution_count": 24,
   "metadata": {},
   "outputs": [],
   "source": [
    "def new_conv_layer(input, num_input_channels, filter_size, num_filters, use_pooling=True):\n",
    "    shape = [filter_size, filter_size, num_input_channels, num_filters]\n",
    "    \n",
    "    weights = new_weights(shape=shape)\n",
    "    biases = new_biases(length=num_filters)\n",
    "    \n",
    "    layer = tf.nn.conv2d(input=input,\n",
    "                         filter=weights,\n",
    "                         strides=[1,1,1,1],\n",
    "                         padding='SAME')\n",
    "    layer += biases\n",
    "    \n",
    "    if use_pooling:\n",
    "        layer = tf.nn.max_pool(value=layer,\n",
    "                               ksize=[1,2,2,1],\n",
    "                               strides=[1,2,2,1],\n",
    "                               padding='SAME')\n",
    "    \n",
    "    layer = tf.nn.relu(layer)\n",
    "    \n",
    "    return layer, weights"
   ]
  },
  {
   "cell_type": "code",
   "execution_count": 25,
   "metadata": {},
   "outputs": [],
   "source": [
    "def flatten_layer(layer):\n",
    "    layer_shape = layer.get_shape()\n",
    "    print(layer_shape)\n",
    "    \n",
    "    num_features = layer_shape[1:4].num_elements()\n",
    "    \n",
    "    layer_flat = tf.reshape(layer, [-1, num_features])\n",
    "    \n",
    "    return layer_flat, num_features\n"
   ]
  },
  {
   "cell_type": "code",
   "execution_count": 26,
   "metadata": {},
   "outputs": [],
   "source": [
    "def new_fc_layer(input, num_inputs, num_outputs, use_relu=True):\n",
    "    weights = new_weights(shape=[num_inputs, num_outputs])\n",
    "    biases = new_biases(length=num_outputs)\n",
    "    \n",
    "    layer = tf.matmul(input, weights) + biases\n",
    "    \n",
    "    if use_relu:\n",
    "        layer = tf.nn.relu(layer)\n",
    "    \n",
    "    return layer"
   ]
  },
  {
   "cell_type": "code",
   "execution_count": 17,
   "metadata": {},
   "outputs": [],
   "source": [
    "x = tf.placeholder(tf.float32, shape=[None, img_size_flat], name='x')"
   ]
  },
  {
   "cell_type": "code",
   "execution_count": 18,
   "metadata": {},
   "outputs": [],
   "source": [
    "x_image = tf.reshape(x, [-1, img_size, img_size, num_channels])"
   ]
  },
  {
   "cell_type": "code",
   "execution_count": 19,
   "metadata": {},
   "outputs": [],
   "source": [
    "y_true = tf.placeholder(tf.float32, shape=[None, num_classes], name='y_true')"
   ]
  },
  {
   "cell_type": "code",
   "execution_count": 20,
   "metadata": {},
   "outputs": [],
   "source": [
    "y_true_cls = tf.argmax(y_true, axis=1)"
   ]
  },
  {
   "cell_type": "code",
   "execution_count": 21,
   "metadata": {},
   "outputs": [],
   "source": [
    "# Layer 1"
   ]
  },
  {
   "cell_type": "code",
   "execution_count": 27,
   "metadata": {},
   "outputs": [],
   "source": [
    "layer_conv1, weights_conv1 = \\\n",
    "    new_conv_layer(input=x_image,\n",
    "                   num_input_channels=num_channels,\n",
    "                   filter_size=filter_size1,\n",
    "                   num_filters=num_filters1,\n",
    "                   use_pooling=True)"
   ]
  },
  {
   "cell_type": "code",
   "execution_count": 29,
   "metadata": {},
   "outputs": [
    {
     "data": {
      "text/plain": [
       "<tf.Tensor 'Relu:0' shape=(?, 14, 14, 16) dtype=float32>"
      ]
     },
     "execution_count": 29,
     "metadata": {},
     "output_type": "execute_result"
    }
   ],
   "source": [
    "layer_conv1"
   ]
  },
  {
   "cell_type": "code",
   "execution_count": 30,
   "metadata": {},
   "outputs": [],
   "source": [
    "# Layer 2"
   ]
  },
  {
   "cell_type": "code",
   "execution_count": 32,
   "metadata": {},
   "outputs": [],
   "source": [
    "layer_conv2, weights_conv2 = \\\n",
    "    new_conv_layer(input=layer_conv1,\n",
    "                   num_input_channels=num_filters1,\n",
    "                   filter_size=filter_size2,\n",
    "                   num_filters=num_filters2,\n",
    "                   use_pooling=True\n",
    "                  )"
   ]
  },
  {
   "cell_type": "code",
   "execution_count": 34,
   "metadata": {},
   "outputs": [
    {
     "data": {
      "text/plain": [
       "<tf.Tensor 'Relu_2:0' shape=(?, 7, 7, 36) dtype=float32>"
      ]
     },
     "execution_count": 34,
     "metadata": {},
     "output_type": "execute_result"
    }
   ],
   "source": [
    "layer_conv2"
   ]
  },
  {
   "cell_type": "code",
   "execution_count": 36,
   "metadata": {},
   "outputs": [
    {
     "name": "stdout",
     "output_type": "stream",
     "text": [
      "(?, 7, 7, 36)\n"
     ]
    }
   ],
   "source": [
    "layer_flat, num_features = flatten_layer(layer_conv2)"
   ]
  },
  {
   "cell_type": "code",
   "execution_count": 38,
   "metadata": {},
   "outputs": [
    {
     "data": {
      "text/plain": [
       "<tf.Tensor 'Reshape_2:0' shape=(?, 1764) dtype=float32>"
      ]
     },
     "execution_count": 38,
     "metadata": {},
     "output_type": "execute_result"
    }
   ],
   "source": [
    "layer_flat"
   ]
  },
  {
   "cell_type": "code",
   "execution_count": 39,
   "metadata": {},
   "outputs": [
    {
     "data": {
      "text/plain": [
       "1764"
      ]
     },
     "execution_count": 39,
     "metadata": {},
     "output_type": "execute_result"
    }
   ],
   "source": [
    "num_features"
   ]
  },
  {
   "cell_type": "code",
   "execution_count": 41,
   "metadata": {},
   "outputs": [],
   "source": [
    "layer_fc1 = new_fc_layer(input=layer_flat,\n",
    "                         num_inputs=num_features,\n",
    "                         num_outputs=fc_size,\n",
    "                         use_relu=True)"
   ]
  },
  {
   "cell_type": "code",
   "execution_count": 43,
   "metadata": {},
   "outputs": [
    {
     "data": {
      "text/plain": [
       "<tf.Tensor 'Relu_4:0' shape=(?, 128) dtype=float32>"
      ]
     },
     "execution_count": 43,
     "metadata": {},
     "output_type": "execute_result"
    }
   ],
   "source": [
    "layer_fc1"
   ]
  },
  {
   "cell_type": "code",
   "execution_count": 44,
   "metadata": {},
   "outputs": [],
   "source": [
    "layer_fc2 = new_fc_layer(input=layer_fc1,\n",
    "                         num_inputs=fc_size,\n",
    "                         num_outputs=num_classes,\n",
    "                         use_relu=False)"
   ]
  },
  {
   "cell_type": "code",
   "execution_count": 45,
   "metadata": {},
   "outputs": [
    {
     "data": {
      "text/plain": [
       "<tf.Tensor 'add_6:0' shape=(?, 10) dtype=float32>"
      ]
     },
     "execution_count": 45,
     "metadata": {},
     "output_type": "execute_result"
    }
   ],
   "source": [
    "layer_fc2"
   ]
  },
  {
   "cell_type": "code",
   "execution_count": 46,
   "metadata": {},
   "outputs": [],
   "source": [
    "y_pred = tf.nn.softmax(layer_fc2)"
   ]
  },
  {
   "cell_type": "code",
   "execution_count": 47,
   "metadata": {},
   "outputs": [],
   "source": [
    "y_pred_cls = tf.argmax(y_pred, axis=1)"
   ]
  },
  {
   "cell_type": "code",
   "execution_count": 48,
   "metadata": {},
   "outputs": [
    {
     "name": "stdout",
     "output_type": "stream",
     "text": [
      "WARNING:tensorflow:From <ipython-input-48-2dd067a7547b>:2: softmax_cross_entropy_with_logits (from tensorflow.python.ops.nn_ops) is deprecated and will be removed in a future version.\n",
      "Instructions for updating:\n",
      "\n",
      "Future major versions of TensorFlow will allow gradients to flow\n",
      "into the labels input on backprop by default.\n",
      "\n",
      "See tf.nn.softmax_cross_entropy_with_logits_v2.\n",
      "\n"
     ]
    }
   ],
   "source": [
    "cross_entropy = tf.nn.softmax_cross_entropy_with_logits(logits=layer_fc2,\n",
    "                                                        labels=y_true)"
   ]
  },
  {
   "cell_type": "code",
   "execution_count": 50,
   "metadata": {},
   "outputs": [],
   "source": [
    "cost = tf.reduce_mean(cross_entropy)"
   ]
  },
  {
   "cell_type": "code",
   "execution_count": 51,
   "metadata": {},
   "outputs": [],
   "source": [
    "optimizer = tf.train.AdamOptimizer(learning_rate=1e-4).minimize(cost)"
   ]
  },
  {
   "cell_type": "code",
   "execution_count": 52,
   "metadata": {},
   "outputs": [],
   "source": [
    "correct_prediction = tf.equal(y_pred_cls, y_true_cls)"
   ]
  },
  {
   "cell_type": "code",
   "execution_count": 53,
   "metadata": {},
   "outputs": [],
   "source": [
    "accuracy = tf.reduce_mean(tf.cast(correct_prediction, tf.float32))"
   ]
  },
  {
   "cell_type": "code",
   "execution_count": 54,
   "metadata": {},
   "outputs": [],
   "source": [
    "# Run Session"
   ]
  },
  {
   "cell_type": "code",
   "execution_count": 57,
   "metadata": {},
   "outputs": [],
   "source": [
    "session = tf.Session()"
   ]
  },
  {
   "cell_type": "code",
   "execution_count": 58,
   "metadata": {},
   "outputs": [],
   "source": [
    "session.run(tf.global_variables_initializer())"
   ]
  },
  {
   "cell_type": "code",
   "execution_count": 59,
   "metadata": {},
   "outputs": [],
   "source": [
    "train_batch_size = 64"
   ]
  },
  {
   "cell_type": "code",
   "execution_count": 90,
   "metadata": {},
   "outputs": [],
   "source": [
    "total_iterations = 0\n",
    "\n",
    "def optimize(num_iterations):\n",
    "    global total_iterations\n",
    "    \n",
    "    start_time = time.time()\n",
    "    \n",
    "    for i in range(total_iterations, total_iterations+num_iterations):\n",
    "        x_batch, y_true_batch = data.train.next_batch(train_batch_size)\n",
    "        \n",
    "        feed_dict_train = {\n",
    "            x: x_batch,\n",
    "            y_true: y_true_batch\n",
    "        }\n",
    "        \n",
    "        session.run(optimizer, feed_dict=feed_dict_train)\n",
    "        \n",
    "        if i%100 ==0:\n",
    "            acc = session.run(accuracy, feed_dict=feed_dict_train)\n",
    "            \n",
    "            msg = 'Optimization Iteration: {0:>6}, Training Accurach: {1:>6.1%}'\n",
    "            print(msg.format(i+1,acc))\n",
    "            \n",
    "        total_iterations += num_iterations\n",
    "        \n",
    "        end_time = time.time()\n",
    "        \n",
    "        time_dif = end_time - start_time\n",
    "    print('Time usage: '+ str(timedelta(seconds=int(round(time_dif)))))"
   ]
  },
  {
   "cell_type": "code",
   "execution_count": 87,
   "metadata": {},
   "outputs": [],
   "source": [
    "def plot_example_errors(cls_pred, correct):\n",
    "    incorrect = (correct == False)\n",
    "    \n",
    "    images = data.test.images[incorrect]\n",
    "    cls_pred = cls_pred[incorrect]\n",
    "    \n",
    "    cls_true = data.test.cls[incorrect]\n",
    "    \n",
    "    plot_images(images=images[0:9],\n",
    "                cls_true=cls_true[0:9],\n",
    "                cls_pred=cls_pred[0:9])"
   ]
  },
  {
   "cell_type": "code",
   "execution_count": 86,
   "metadata": {},
   "outputs": [],
   "source": [
    "def plot_confusion_matrix(cls_pred):\n",
    "    # This is called from print_test_accuracy() below.\n",
    "\n",
    "    # cls_pred is an array of the predicted class-number for\n",
    "    # all images in the test-set.\n",
    "\n",
    "    # Get the true classifications for the test-set.\n",
    "    cls_true = data.test.cls\n",
    "    \n",
    "    # Get the confusion matrix using sklearn.\n",
    "    cm = confusion_matrix(y_true=cls_true,\n",
    "                          y_pred=cls_pred)\n",
    "\n",
    "    # Print the confusion matrix as text.\n",
    "    print(cm)\n",
    "\n",
    "    # Plot the confusion matrix as an image.\n",
    "    plt.matshow(cm)\n",
    "\n",
    "    # Make various adjustments to the plot.\n",
    "    plt.colorbar()\n",
    "    tick_marks = np.arange(num_classes)\n",
    "    plt.xticks(tick_marks, range(num_classes))\n",
    "    plt.yticks(tick_marks, range(num_classes))\n",
    "    plt.xlabel('Predicted')\n",
    "    plt.ylabel('True')\n",
    "\n",
    "    # Ensure the plot is shown correctly with multiple plots\n",
    "    # in a single Notebook cell.\n",
    "    plt.show()"
   ]
  },
  {
   "cell_type": "code",
   "execution_count": 70,
   "metadata": {},
   "outputs": [],
   "source": [
    "# Split the test-set into smaller batches of this size.\n",
    "test_batch_size = 256\n",
    "\n",
    "def print_test_accuracy(show_example_errors=False,\n",
    "                        show_confusion_matrix=False):\n",
    "\n",
    "    # Number of images in the test-set.\n",
    "    num_test = len(data.test.labels)\n",
    "\n",
    "    # Allocate an array for the predicted classes which\n",
    "    # will be calculated in batches and filled into this array.\n",
    "    cls_pred = np.zeros(shape=num_test, dtype=np.int)\n",
    "\n",
    "    # Now calculate the predicted classes for the batches.\n",
    "    # We will just iterate through all the batches.\n",
    "    # There might be a more clever and Pythonic way of doing this.\n",
    "\n",
    "    # The starting index for the next batch is denoted i.\n",
    "    i = 0\n",
    "\n",
    "    while i < num_test:\n",
    "        # The ending index for the next batch is denoted j.\n",
    "        j = min(i + test_batch_size, num_test)\n",
    "\n",
    "        # Get the images from the test-set between index i and j.\n",
    "        images = data.test.images[i:j, :]\n",
    "\n",
    "        # Get the associated labels.\n",
    "        labels = data.test.labels[i:j, :]\n",
    "\n",
    "        # Create a feed-dict with these images and labels.\n",
    "        feed_dict = {x: images,\n",
    "                     y_true: labels}\n",
    "\n",
    "        # Calculate the predicted class using TensorFlow.\n",
    "        cls_pred[i:j] = session.run(y_pred_cls, feed_dict=feed_dict)\n",
    "\n",
    "        # Set the start-index for the next batch to the\n",
    "        # end-index of the current batch.\n",
    "        i = j\n",
    "\n",
    "    # Convenience variable for the true class-numbers of the test-set.\n",
    "    cls_true = data.test.cls\n",
    "\n",
    "    # Create a boolean array whether each image is correctly classified.\n",
    "    correct = (cls_true == cls_pred)\n",
    "\n",
    "    # Calculate the number of correctly classified images.\n",
    "    # When summing a boolean array, False means 0 and True means 1.\n",
    "    correct_sum = correct.sum()\n",
    "\n",
    "    # Classification accuracy is the number of correctly classified\n",
    "    # images divided by the total number of images in the test-set.\n",
    "    acc = float(correct_sum) / num_test\n",
    "\n",
    "    # Print the accuracy.\n",
    "    msg = \"Accuracy on Test-Set: {0:.1%} ({1} / {2})\"\n",
    "    print(msg.format(acc, correct_sum, num_test))\n",
    "\n",
    "    # Plot some examples of mis-classifications, if desired.\n",
    "    if show_example_errors:\n",
    "        print(\"Example errors:\")\n",
    "        plot_example_errors(cls_pred=cls_pred, correct=correct)\n",
    "\n",
    "    # Plot the confusion matrix, if desired.\n",
    "    if show_confusion_matrix:\n",
    "        print(\"Confusion Matrix:\")\n",
    "        plot_confusion_matrix(cls_pred=cls_pred)"
   ]
  },
  {
   "cell_type": "code",
   "execution_count": 71,
   "metadata": {},
   "outputs": [
    {
     "name": "stdout",
     "output_type": "stream",
     "text": [
      "Accuracy on Test-Set: 15.7% (1574 / 10000)\n"
     ]
    }
   ],
   "source": [
    "print_test_accuracy()"
   ]
  },
  {
   "cell_type": "code",
   "execution_count": 79,
   "metadata": {},
   "outputs": [
    {
     "name": "stdout",
     "output_type": "stream",
     "text": [
      "Time usage: 0:00:00\n"
     ]
    }
   ],
   "source": [
    "optimize(num_iterations=1)"
   ]
  },
  {
   "cell_type": "code",
   "execution_count": 80,
   "metadata": {},
   "outputs": [
    {
     "name": "stdout",
     "output_type": "stream",
     "text": [
      "Accuracy on Test-Set: 15.8% (1583 / 10000)\n"
     ]
    }
   ],
   "source": [
    "print_test_accuracy()"
   ]
  },
  {
   "cell_type": "code",
   "execution_count": 81,
   "metadata": {},
   "outputs": [
    {
     "name": "stdout",
     "output_type": "stream",
     "text": [
      "Time usage: 0:00:00\n",
      "Time usage: 0:00:00\n",
      "Time usage: 0:00:00\n",
      "Time usage: 0:00:00\n",
      "Time usage: 0:00:00\n",
      "Time usage: 0:00:00\n",
      "Time usage: 0:00:01\n",
      "Time usage: 0:00:01\n",
      "Time usage: 0:00:01\n",
      "Time usage: 0:00:01\n",
      "Time usage: 0:00:01\n",
      "Time usage: 0:00:01\n",
      "Time usage: 0:00:01\n",
      "Time usage: 0:00:01\n",
      "Time usage: 0:00:01\n",
      "Time usage: 0:00:01\n",
      "Time usage: 0:00:01\n",
      "Time usage: 0:00:01\n",
      "Time usage: 0:00:01\n",
      "Time usage: 0:00:01\n",
      "Time usage: 0:00:01\n",
      "Time usage: 0:00:01\n",
      "Time usage: 0:00:01\n",
      "Time usage: 0:00:02\n",
      "Time usage: 0:00:02\n",
      "Time usage: 0:00:02\n",
      "Time usage: 0:00:02\n",
      "Time usage: 0:00:02\n",
      "Time usage: 0:00:02\n",
      "Time usage: 0:00:02\n",
      "Time usage: 0:00:02\n",
      "Time usage: 0:00:02\n",
      "Time usage: 0:00:02\n",
      "Time usage: 0:00:02\n",
      "Time usage: 0:00:02\n",
      "Time usage: 0:00:02\n",
      "Time usage: 0:00:02\n",
      "Time usage: 0:00:02\n",
      "Time usage: 0:00:02\n",
      "Time usage: 0:00:02\n",
      "Time usage: 0:00:02\n",
      "Time usage: 0:00:03\n",
      "Time usage: 0:00:03\n",
      "Time usage: 0:00:03\n",
      "Time usage: 0:00:03\n",
      "Time usage: 0:00:03\n",
      "Time usage: 0:00:03\n",
      "Time usage: 0:00:03\n",
      "Time usage: 0:00:03\n",
      "Time usage: 0:00:03\n",
      "Time usage: 0:00:03\n",
      "Time usage: 0:00:03\n",
      "Time usage: 0:00:03\n",
      "Time usage: 0:00:03\n",
      "Time usage: 0:00:03\n",
      "Time usage: 0:00:03\n",
      "Time usage: 0:00:03\n",
      "Time usage: 0:00:03\n",
      "Time usage: 0:00:04\n",
      "Time usage: 0:00:04\n",
      "Time usage: 0:00:04\n",
      "Time usage: 0:00:04\n",
      "Time usage: 0:00:04\n",
      "Time usage: 0:00:04\n",
      "Time usage: 0:00:04\n",
      "Time usage: 0:00:04\n",
      "Time usage: 0:00:04\n",
      "Time usage: 0:00:04\n",
      "Time usage: 0:00:04\n",
      "Time usage: 0:00:04\n",
      "Time usage: 0:00:04\n",
      "Time usage: 0:00:04\n",
      "Time usage: 0:00:04\n",
      "Time usage: 0:00:04\n",
      "Time usage: 0:00:04\n",
      "Time usage: 0:00:05\n",
      "Time usage: 0:00:05\n",
      "Time usage: 0:00:05\n",
      "Time usage: 0:00:05\n",
      "Time usage: 0:00:05\n",
      "Time usage: 0:00:05\n",
      "Time usage: 0:00:05\n",
      "Time usage: 0:00:05\n",
      "Time usage: 0:00:05\n",
      "Time usage: 0:00:05\n",
      "Time usage: 0:00:05\n",
      "Time usage: 0:00:05\n",
      "Time usage: 0:00:05\n",
      "Time usage: 0:00:05\n",
      "Time usage: 0:00:06\n",
      "Time usage: 0:00:06\n",
      "Time usage: 0:00:06\n",
      "Time usage: 0:00:06\n",
      "Time usage: 0:00:06\n",
      "Time usage: 0:00:06\n",
      "Time usage: 0:00:06\n",
      "Time usage: 0:00:06\n",
      "Time usage: 0:00:06\n",
      "Optimization Iteration:    101, Training Accurach:  70.3%\n",
      "Time usage: 0:00:06\n"
     ]
    }
   ],
   "source": [
    "optimize(num_iterations=99) # We already performed 1 iteration above."
   ]
  },
  {
   "cell_type": "code",
   "execution_count": 88,
   "metadata": {},
   "outputs": [
    {
     "name": "stdout",
     "output_type": "stream",
     "text": [
      "Accuracy on Test-Set: 69.0% (6898 / 10000)\n",
      "Example errors:\n"
     ]
    },
    {
     "data": {
      "image/png": "[encoded data removed]",
      "text/plain": [
       "<matplotlib.figure.Figure at 0x18c0078ec50>"
      ]
     },
     "metadata": {},
     "output_type": "display_data"
    }
   ],
   "source": [
    "print_test_accuracy(show_example_errors=True)"
   ]
  },
  {
   "cell_type": "code",
   "execution_count": 89,
   "metadata": {},
   "outputs": [
    {
     "name": "stdout",
     "output_type": "stream",
     "text": [
      "Time usage: 0:00:00\n",
      "Time usage: 0:00:00\n",
      "Time usage: 0:00:00\n",
      "Time usage: 0:00:00\n",
      "Time usage: 0:00:00\n",
      "Time usage: 0:00:00\n",
      "Time usage: 0:00:00\n",
      "Time usage: 0:00:00\n",
      "Time usage: 0:00:01\n",
      "Time usage: 0:00:01\n",
      "Time usage: 0:00:01\n",
      "Time usage: 0:00:01\n",
      "Time usage: 0:00:01\n",
      "Time usage: 0:00:01\n",
      "Time usage: 0:00:01\n",
      "Time usage: 0:00:01\n",
      "Time usage: 0:00:01\n",
      "Time usage: 0:00:01\n",
      "Time usage: 0:00:01\n",
      "Time usage: 0:00:01\n",
      "Time usage: 0:00:01\n",
      "Time usage: 0:00:01\n",
      "Time usage: 0:00:01\n",
      "Time usage: 0:00:01\n",
      "Time usage: 0:00:01\n",
      "Time usage: 0:00:01\n",
      "Time usage: 0:00:02\n",
      "Time usage: 0:00:02\n",
      "Time usage: 0:00:02\n",
      "Time usage: 0:00:02\n",
      "Time usage: 0:00:02\n",
      "Time usage: 0:00:02\n",
      "Time usage: 0:00:02\n",
      "Time usage: 0:00:02\n",
      "Time usage: 0:00:02\n",
      "Time usage: 0:00:02\n",
      "Time usage: 0:00:02\n",
      "Time usage: 0:00:02\n",
      "Time usage: 0:00:02\n",
      "Time usage: 0:00:02\n",
      "Time usage: 0:00:02\n",
      "Time usage: 0:00:02\n",
      "Time usage: 0:00:02\n",
      "Time usage: 0:00:03\n",
      "Time usage: 0:00:03\n",
      "Time usage: 0:00:03\n",
      "Time usage: 0:00:03\n",
      "Time usage: 0:00:03\n",
      "Time usage: 0:00:03\n",
      "Time usage: 0:00:03\n",
      "Time usage: 0:00:03\n",
      "Time usage: 0:00:03\n",
      "Time usage: 0:00:03\n",
      "Time usage: 0:00:03\n",
      "Time usage: 0:00:03\n",
      "Time usage: 0:00:03\n",
      "Time usage: 0:00:03\n",
      "Time usage: 0:00:03\n",
      "Time usage: 0:00:03\n",
      "Time usage: 0:00:03\n",
      "Time usage: 0:00:03\n",
      "Time usage: 0:00:04\n",
      "Time usage: 0:00:04\n",
      "Time usage: 0:00:04\n",
      "Time usage: 0:00:04\n",
      "Time usage: 0:00:04\n",
      "Time usage: 0:00:04\n",
      "Time usage: 0:00:04\n",
      "Time usage: 0:00:04\n",
      "Time usage: 0:00:04\n",
      "Time usage: 0:00:04\n",
      "Time usage: 0:00:04\n",
      "Time usage: 0:00:04\n",
      "Time usage: 0:00:04\n",
      "Time usage: 0:00:04\n",
      "Time usage: 0:00:04\n",
      "Time usage: 0:00:04\n",
      "Time usage: 0:00:04\n",
      "Time usage: 0:00:04\n",
      "Time usage: 0:00:05\n",
      "Time usage: 0:00:05\n",
      "Time usage: 0:00:05\n",
      "Time usage: 0:00:05\n",
      "Time usage: 0:00:05\n",
      "Time usage: 0:00:05\n",
      "Time usage: 0:00:05\n",
      "Time usage: 0:00:05\n",
      "Time usage: 0:00:05\n",
      "Time usage: 0:00:05\n",
      "Time usage: 0:00:05\n",
      "Time usage: 0:00:05\n",
      "Time usage: 0:00:05\n",
      "Time usage: 0:00:05\n",
      "Time usage: 0:00:05\n",
      "Time usage: 0:00:05\n",
      "Time usage: 0:00:05\n",
      "Time usage: 0:00:06\n",
      "Optimization Iteration:   9901, Training Accurach:  82.8%\n",
      "Time usage: 0:00:06\n",
      "Time usage: 0:00:06\n",
      "Time usage: 0:00:06\n",
      "Time usage: 0:00:06\n",
      "Time usage: 0:00:06\n",
      "Time usage: 0:00:06\n",
      "Time usage: 0:00:06\n",
      "Time usage: 0:00:06\n",
      "Time usage: 0:00:06\n",
      "Time usage: 0:00:06\n",
      "Time usage: 0:00:06\n",
      "Time usage: 0:00:06\n",
      "Time usage: 0:00:06\n",
      "Time usage: 0:00:06\n",
      "Time usage: 0:00:06\n",
      "Time usage: 0:00:07\n",
      "Time usage: 0:00:07\n",
      "Time usage: 0:00:07\n",
      "Time usage: 0:00:07\n",
      "Time usage: 0:00:07\n",
      "Time usage: 0:00:07\n",
      "Time usage: 0:00:07\n",
      "Time usage: 0:00:07\n",
      "Time usage: 0:00:07\n",
      "Time usage: 0:00:07\n",
      "Time usage: 0:00:07\n",
      "Time usage: 0:00:07\n",
      "Time usage: 0:00:07\n",
      "Time usage: 0:00:07\n",
      "Time usage: 0:00:07\n",
      "Time usage: 0:00:07\n",
      "Time usage: 0:00:07\n",
      "Time usage: 0:00:07\n",
      "Time usage: 0:00:08\n",
      "Time usage: 0:00:08\n",
      "Time usage: 0:00:08\n",
      "Time usage: 0:00:08\n",
      "Time usage: 0:00:08\n",
      "Time usage: 0:00:08\n",
      "Time usage: 0:00:08\n",
      "Time usage: 0:00:08\n",
      "Time usage: 0:00:08\n",
      "Time usage: 0:00:08\n",
      "Time usage: 0:00:08\n",
      "Time usage: 0:00:08\n",
      "Time usage: 0:00:08\n",
      "Time usage: 0:00:08\n",
      "Time usage: 0:00:08\n",
      "Time usage: 0:00:08\n",
      "Time usage: 0:00:08\n",
      "Time usage: 0:00:08\n",
      "Time usage: 0:00:09\n",
      "Time usage: 0:00:09\n",
      "Time usage: 0:00:09\n",
      "Time usage: 0:00:09\n",
      "Time usage: 0:00:09\n",
      "Time usage: 0:00:09\n",
      "Time usage: 0:00:09\n",
      "Time usage: 0:00:09\n",
      "Time usage: 0:00:09\n",
      "Time usage: 0:00:09\n",
      "Time usage: 0:00:09\n",
      "Time usage: 0:00:09\n",
      "Time usage: 0:00:09\n",
      "Time usage: 0:00:09\n",
      "Time usage: 0:00:09\n",
      "Time usage: 0:00:09\n",
      "Time usage: 0:00:10\n",
      "Time usage: 0:00:10\n",
      "Time usage: 0:00:10\n",
      "Time usage: 0:00:10\n",
      "Time usage: 0:00:10\n",
      "Time usage: 0:00:10\n",
      "Time usage: 0:00:10\n",
      "Time usage: 0:00:10\n",
      "Time usage: 0:00:10\n",
      "Time usage: 0:00:10\n",
      "Time usage: 0:00:10\n",
      "Time usage: 0:00:10\n",
      "Time usage: 0:00:10\n",
      "Time usage: 0:00:10\n",
      "Time usage: 0:00:10\n",
      "Time usage: 0:00:10\n",
      "Time usage: 0:00:10\n",
      "Time usage: 0:00:10\n",
      "Time usage: 0:00:11\n",
      "Time usage: 0:00:11\n",
      "Time usage: 0:00:11\n",
      "Time usage: 0:00:11\n",
      "Time usage: 0:00:11\n",
      "Time usage: 0:00:11\n",
      "Time usage: 0:00:11\n",
      "Time usage: 0:00:11\n",
      "Time usage: 0:00:11\n",
      "Time usage: 0:00:11\n",
      "Time usage: 0:00:11\n",
      "Time usage: 0:00:11\n",
      "Time usage: 0:00:11\n",
      "Time usage: 0:00:11\n",
      "Time usage: 0:00:11\n",
      "Optimization Iteration:  10001, Training Accurach:  87.5%\n",
      "Time usage: 0:00:11\n",
      "Time usage: 0:00:11\n",
      "Time usage: 0:00:11\n",
      "Time usage: 0:00:12\n",
      "Time usage: 0:00:12\n",
      "Time usage: 0:00:12\n",
      "Time usage: 0:00:12\n",
      "Time usage: 0:00:12\n",
      "Time usage: 0:00:12\n",
      "Time usage: 0:00:12\n",
      "Time usage: 0:00:12\n",
      "Time usage: 0:00:12\n",
      "Time usage: 0:00:12\n",
      "Time usage: 0:00:12\n",
      "Time usage: 0:00:12\n",
      "Time usage: 0:00:12\n",
      "Time usage: 0:00:12\n",
      "Time usage: 0:00:12\n",
      "Time usage: 0:00:12\n",
      "Time usage: 0:00:13\n",
      "Time usage: 0:00:13\n",
      "Time usage: 0:00:13\n",
      "Time usage: 0:00:13\n",
      "Time usage: 0:00:13\n",
      "Time usage: 0:00:13\n",
      "Time usage: 0:00:13\n",
      "Time usage: 0:00:13\n",
      "Time usage: 0:00:13\n",
      "Time usage: 0:00:13\n",
      "Time usage: 0:00:13\n",
      "Time usage: 0:00:13\n",
      "Time usage: 0:00:13\n",
      "Time usage: 0:00:13\n",
      "Time usage: 0:00:13\n",
      "Time usage: 0:00:13\n",
      "Time usage: 0:00:13\n",
      "Time usage: 0:00:13\n",
      "Time usage: 0:00:14\n",
      "Time usage: 0:00:14\n",
      "Time usage: 0:00:14\n",
      "Time usage: 0:00:14\n",
      "Time usage: 0:00:14\n",
      "Time usage: 0:00:14\n",
      "Time usage: 0:00:14\n",
      "Time usage: 0:00:14\n",
      "Time usage: 0:00:14\n",
      "Time usage: 0:00:14\n",
      "Time usage: 0:00:14\n",
      "Time usage: 0:00:14\n",
      "Time usage: 0:00:14\n",
      "Time usage: 0:00:14\n",
      "Time usage: 0:00:14\n",
      "Time usage: 0:00:14\n",
      "Time usage: 0:00:14\n",
      "Time usage: 0:00:14\n",
      "Time usage: 0:00:15\n",
      "Time usage: 0:00:15\n",
      "Time usage: 0:00:15\n",
      "Time usage: 0:00:15\n",
      "Time usage: 0:00:15\n",
      "Time usage: 0:00:15\n",
      "Time usage: 0:00:15\n",
      "Time usage: 0:00:15\n",
      "Time usage: 0:00:15\n",
      "Time usage: 0:00:15\n",
      "Time usage: 0:00:15\n",
      "Time usage: 0:00:15\n",
      "Time usage: 0:00:15\n",
      "Time usage: 0:00:15\n",
      "Time usage: 0:00:15\n",
      "Time usage: 0:00:15\n",
      "Time usage: 0:00:16\n",
      "Time usage: 0:00:16\n",
      "Time usage: 0:00:16\n",
      "Time usage: 0:00:16\n",
      "Time usage: 0:00:16\n",
      "Time usage: 0:00:16\n",
      "Time usage: 0:00:16\n",
      "Time usage: 0:00:16\n",
      "Time usage: 0:00:16\n",
      "Time usage: 0:00:16\n",
      "Time usage: 0:00:16\n",
      "Time usage: 0:00:16\n",
      "Time usage: 0:00:16\n",
      "Time usage: 0:00:16\n",
      "Time usage: 0:00:16\n",
      "Time usage: 0:00:16\n",
      "Time usage: 0:00:16\n",
      "Time usage: 0:00:17\n",
      "Time usage: 0:00:17\n",
      "Time usage: 0:00:17\n",
      "Time usage: 0:00:17\n",
      "Time usage: 0:00:17\n",
      "Time usage: 0:00:17\n",
      "Time usage: 0:00:17\n",
      "Time usage: 0:00:17\n",
      "Time usage: 0:00:17\n",
      "Time usage: 0:00:17\n",
      "Time usage: 0:00:17\n",
      "Time usage: 0:00:17\n",
      "Optimization Iteration:  10101, Training Accurach:  89.1%\n",
      "Time usage: 0:00:17\n",
      "Time usage: 0:00:17\n",
      "Time usage: 0:00:17\n",
      "Time usage: 0:00:17\n",
      "Time usage: 0:00:17\n",
      "Time usage: 0:00:17\n",
      "Time usage: 0:00:18\n",
      "Time usage: 0:00:18\n",
      "Time usage: 0:00:18\n",
      "Time usage: 0:00:18\n",
      "Time usage: 0:00:18\n",
      "Time usage: 0:00:18\n",
      "Time usage: 0:00:18\n",
      "Time usage: 0:00:18\n",
      "Time usage: 0:00:18\n",
      "Time usage: 0:00:18\n",
      "Time usage: 0:00:18\n",
      "Time usage: 0:00:18\n",
      "Time usage: 0:00:18\n",
      "Time usage: 0:00:18\n",
      "Time usage: 0:00:18\n",
      "Time usage: 0:00:18\n",
      "Time usage: 0:00:18\n",
      "Time usage: 0:00:18\n",
      "Time usage: 0:00:19\n",
      "Time usage: 0:00:19\n",
      "Time usage: 0:00:19\n",
      "Time usage: 0:00:19\n",
      "Time usage: 0:00:19\n",
      "Time usage: 0:00:19\n",
      "Time usage: 0:00:19\n",
      "Time usage: 0:00:19\n",
      "Time usage: 0:00:19\n",
      "Time usage: 0:00:19\n",
      "Time usage: 0:00:19\n",
      "Time usage: 0:00:19\n",
      "Time usage: 0:00:19\n",
      "Time usage: 0:00:19\n",
      "Time usage: 0:00:19\n",
      "Time usage: 0:00:19\n",
      "Time usage: 0:00:19\n",
      "Time usage: 0:00:20\n",
      "Time usage: 0:00:20\n",
      "Time usage: 0:00:20\n",
      "Time usage: 0:00:20\n",
      "Time usage: 0:00:20\n",
      "Time usage: 0:00:20\n",
      "Time usage: 0:00:20\n",
      "Time usage: 0:00:20\n",
      "Time usage: 0:00:20\n",
      "Time usage: 0:00:20\n",
      "Time usage: 0:00:20\n",
      "Time usage: 0:00:20\n",
      "Time usage: 0:00:20\n",
      "Time usage: 0:00:20\n",
      "Time usage: 0:00:20\n",
      "Time usage: 0:00:20\n",
      "Time usage: 0:00:20\n",
      "Time usage: 0:00:20\n",
      "Time usage: 0:00:21\n",
      "Time usage: 0:00:21\n",
      "Time usage: 0:00:21\n",
      "Time usage: 0:00:21\n",
      "Time usage: 0:00:21\n",
      "Time usage: 0:00:21\n",
      "Time usage: 0:00:21\n",
      "Time usage: 0:00:21\n",
      "Time usage: 0:00:21\n",
      "Time usage: 0:00:21\n",
      "Time usage: 0:00:21\n",
      "Time usage: 0:00:21\n",
      "Time usage: 0:00:21\n",
      "Time usage: 0:00:21\n",
      "Time usage: 0:00:21\n",
      "Time usage: 0:00:21\n",
      "Time usage: 0:00:21\n",
      "Time usage: 0:00:21\n",
      "Time usage: 0:00:22\n",
      "Time usage: 0:00:22\n",
      "Time usage: 0:00:22\n",
      "Time usage: 0:00:22\n",
      "Time usage: 0:00:22\n",
      "Time usage: 0:00:22\n",
      "Time usage: 0:00:22\n",
      "Time usage: 0:00:22\n",
      "Time usage: 0:00:22\n",
      "Time usage: 0:00:22\n",
      "Time usage: 0:00:22\n",
      "Time usage: 0:00:22\n",
      "Time usage: 0:00:22\n",
      "Time usage: 0:00:22\n",
      "Time usage: 0:00:22\n",
      "Time usage: 0:00:22\n",
      "Time usage: 0:00:22\n",
      "Time usage: 0:00:23\n",
      "Time usage: 0:00:23\n",
      "Time usage: 0:00:23\n",
      "Time usage: 0:00:23\n",
      "Time usage: 0:00:23\n",
      "Time usage: 0:00:23\n",
      "Optimization Iteration:  10201, Training Accurach:  92.2%\n",
      "Time usage: 0:00:23\n",
      "Time usage: 0:00:23\n",
      "Time usage: 0:00:23\n",
      "Time usage: 0:00:23\n"
     ]
    },
    {
     "name": "stdout",
     "output_type": "stream",
     "text": [
      "Time usage: 0:00:23\n",
      "Time usage: 0:00:23\n",
      "Time usage: 0:00:23\n",
      "Time usage: 0:00:23\n",
      "Time usage: 0:00:23\n",
      "Time usage: 0:00:23\n",
      "Time usage: 0:00:23\n",
      "Time usage: 0:00:23\n",
      "Time usage: 0:00:24\n",
      "Time usage: 0:00:24\n",
      "Time usage: 0:00:24\n",
      "Time usage: 0:00:24\n",
      "Time usage: 0:00:24\n",
      "Time usage: 0:00:24\n",
      "Time usage: 0:00:24\n",
      "Time usage: 0:00:24\n",
      "Time usage: 0:00:24\n",
      "Time usage: 0:00:24\n",
      "Time usage: 0:00:24\n",
      "Time usage: 0:00:24\n",
      "Time usage: 0:00:24\n",
      "Time usage: 0:00:24\n",
      "Time usage: 0:00:24\n",
      "Time usage: 0:00:24\n",
      "Time usage: 0:00:24\n",
      "Time usage: 0:00:24\n",
      "Time usage: 0:00:25\n",
      "Time usage: 0:00:25\n",
      "Time usage: 0:00:25\n",
      "Time usage: 0:00:25\n",
      "Time usage: 0:00:25\n",
      "Time usage: 0:00:25\n",
      "Time usage: 0:00:25\n",
      "Time usage: 0:00:25\n",
      "Time usage: 0:00:25\n",
      "Time usage: 0:00:25\n",
      "Time usage: 0:00:25\n",
      "Time usage: 0:00:25\n",
      "Time usage: 0:00:25\n",
      "Time usage: 0:00:25\n",
      "Time usage: 0:00:25\n",
      "Time usage: 0:00:25\n",
      "Time usage: 0:00:25\n",
      "Time usage: 0:00:26\n",
      "Time usage: 0:00:26\n",
      "Time usage: 0:00:26\n",
      "Time usage: 0:00:26\n",
      "Time usage: 0:00:26\n",
      "Time usage: 0:00:26\n",
      "Time usage: 0:00:26\n",
      "Time usage: 0:00:26\n",
      "Time usage: 0:00:26\n",
      "Time usage: 0:00:26\n",
      "Time usage: 0:00:26\n",
      "Time usage: 0:00:26\n",
      "Time usage: 0:00:26\n",
      "Time usage: 0:00:26\n",
      "Time usage: 0:00:26\n",
      "Time usage: 0:00:26\n",
      "Time usage: 0:00:26\n",
      "Time usage: 0:00:26\n",
      "Time usage: 0:00:27\n",
      "Time usage: 0:00:27\n",
      "Time usage: 0:00:27\n",
      "Time usage: 0:00:27\n",
      "Time usage: 0:00:27\n",
      "Time usage: 0:00:27\n",
      "Time usage: 0:00:27\n",
      "Time usage: 0:00:27\n",
      "Time usage: 0:00:27\n",
      "Time usage: 0:00:27\n",
      "Time usage: 0:00:27\n",
      "Time usage: 0:00:27\n",
      "Time usage: 0:00:27\n",
      "Time usage: 0:00:27\n",
      "Time usage: 0:00:27\n",
      "Time usage: 0:00:27\n",
      "Time usage: 0:00:27\n",
      "Time usage: 0:00:27\n",
      "Time usage: 0:00:27\n",
      "Time usage: 0:00:28\n",
      "Time usage: 0:00:28\n",
      "Time usage: 0:00:28\n",
      "Time usage: 0:00:28\n",
      "Time usage: 0:00:28\n",
      "Time usage: 0:00:28\n",
      "Time usage: 0:00:28\n",
      "Time usage: 0:00:28\n",
      "Time usage: 0:00:28\n",
      "Time usage: 0:00:28\n",
      "Time usage: 0:00:28\n",
      "Time usage: 0:00:28\n",
      "Time usage: 0:00:28\n",
      "Time usage: 0:00:28\n",
      "Time usage: 0:00:28\n",
      "Time usage: 0:00:28\n",
      "Optimization Iteration:  10301, Training Accurach:  84.4%\n",
      "Time usage: 0:00:29\n",
      "Time usage: 0:00:29\n",
      "Time usage: 0:00:29\n",
      "Time usage: 0:00:29\n",
      "Time usage: 0:00:29\n",
      "Time usage: 0:00:29\n",
      "Time usage: 0:00:29\n",
      "Time usage: 0:00:29\n",
      "Time usage: 0:00:29\n",
      "Time usage: 0:00:29\n",
      "Time usage: 0:00:29\n",
      "Time usage: 0:00:29\n",
      "Time usage: 0:00:29\n",
      "Time usage: 0:00:29\n",
      "Time usage: 0:00:29\n",
      "Time usage: 0:00:29\n",
      "Time usage: 0:00:29\n",
      "Time usage: 0:00:29\n",
      "Time usage: 0:00:30\n",
      "Time usage: 0:00:30\n",
      "Time usage: 0:00:30\n",
      "Time usage: 0:00:30\n",
      "Time usage: 0:00:30\n",
      "Time usage: 0:00:30\n",
      "Time usage: 0:00:30\n",
      "Time usage: 0:00:30\n",
      "Time usage: 0:00:30\n",
      "Time usage: 0:00:30\n",
      "Time usage: 0:00:30\n",
      "Time usage: 0:00:30\n",
      "Time usage: 0:00:30\n",
      "Time usage: 0:00:30\n",
      "Time usage: 0:00:30\n",
      "Time usage: 0:00:30\n",
      "Time usage: 0:00:30\n",
      "Time usage: 0:00:30\n",
      "Time usage: 0:00:30\n",
      "Time usage: 0:00:31\n",
      "Time usage: 0:00:31\n",
      "Time usage: 0:00:31\n",
      "Time usage: 0:00:31\n",
      "Time usage: 0:00:31\n",
      "Time usage: 0:00:31\n",
      "Time usage: 0:00:31\n",
      "Time usage: 0:00:31\n",
      "Time usage: 0:00:31\n",
      "Time usage: 0:00:31\n",
      "Time usage: 0:00:31\n",
      "Time usage: 0:00:31\n",
      "Time usage: 0:00:31\n",
      "Time usage: 0:00:31\n",
      "Time usage: 0:00:31\n",
      "Time usage: 0:00:31\n",
      "Time usage: 0:00:31\n",
      "Time usage: 0:00:31\n",
      "Time usage: 0:00:32\n",
      "Time usage: 0:00:32\n",
      "Time usage: 0:00:32\n",
      "Time usage: 0:00:32\n",
      "Time usage: 0:00:32\n",
      "Time usage: 0:00:32\n",
      "Time usage: 0:00:32\n",
      "Time usage: 0:00:32\n",
      "Time usage: 0:00:32\n",
      "Time usage: 0:00:32\n",
      "Time usage: 0:00:32\n",
      "Time usage: 0:00:32\n",
      "Time usage: 0:00:32\n",
      "Time usage: 0:00:32\n",
      "Time usage: 0:00:32\n",
      "Time usage: 0:00:32\n",
      "Time usage: 0:00:32\n",
      "Time usage: 0:00:32\n",
      "Time usage: 0:00:33\n",
      "Time usage: 0:00:33\n",
      "Time usage: 0:00:33\n",
      "Time usage: 0:00:33\n",
      "Time usage: 0:00:33\n",
      "Time usage: 0:00:33\n",
      "Time usage: 0:00:33\n",
      "Time usage: 0:00:33\n",
      "Time usage: 0:00:33\n",
      "Time usage: 0:00:33\n",
      "Time usage: 0:00:33\n",
      "Time usage: 0:00:33\n",
      "Time usage: 0:00:33\n",
      "Time usage: 0:00:33\n",
      "Time usage: 0:00:33\n",
      "Time usage: 0:00:33\n",
      "Time usage: 0:00:34\n",
      "Time usage: 0:00:34\n",
      "Time usage: 0:00:34\n",
      "Time usage: 0:00:34\n",
      "Time usage: 0:00:34\n",
      "Time usage: 0:00:34\n",
      "Time usage: 0:00:34\n",
      "Time usage: 0:00:34\n",
      "Time usage: 0:00:34\n",
      "Time usage: 0:00:34\n",
      "Time usage: 0:00:34\n",
      "Optimization Iteration:  10401, Training Accurach:  90.6%\n",
      "Time usage: 0:00:34\n",
      "Time usage: 0:00:34\n",
      "Time usage: 0:00:34\n",
      "Time usage: 0:00:34\n",
      "Time usage: 0:00:34\n",
      "Time usage: 0:00:35\n",
      "Time usage: 0:00:35\n",
      "Time usage: 0:00:35\n",
      "Time usage: 0:00:35\n",
      "Time usage: 0:00:35\n",
      "Time usage: 0:00:35\n",
      "Time usage: 0:00:35\n",
      "Time usage: 0:00:35\n",
      "Time usage: 0:00:35\n",
      "Time usage: 0:00:35\n",
      "Time usage: 0:00:35\n",
      "Time usage: 0:00:35\n",
      "Time usage: 0:00:35\n",
      "Time usage: 0:00:35\n",
      "Time usage: 0:00:35\n",
      "Time usage: 0:00:35\n",
      "Time usage: 0:00:35\n",
      "Time usage: 0:00:36\n",
      "Time usage: 0:00:36\n",
      "Time usage: 0:00:36\n",
      "Time usage: 0:00:36\n",
      "Time usage: 0:00:36\n",
      "Time usage: 0:00:36\n",
      "Time usage: 0:00:36\n",
      "Time usage: 0:00:36\n",
      "Time usage: 0:00:36\n",
      "Time usage: 0:00:36\n",
      "Time usage: 0:00:36\n",
      "Time usage: 0:00:36\n",
      "Time usage: 0:00:36\n",
      "Time usage: 0:00:36\n",
      "Time usage: 0:00:36\n",
      "Time usage: 0:00:36\n",
      "Time usage: 0:00:36\n",
      "Time usage: 0:00:36\n",
      "Time usage: 0:00:37\n",
      "Time usage: 0:00:37\n",
      "Time usage: 0:00:37\n",
      "Time usage: 0:00:37\n",
      "Time usage: 0:00:37\n",
      "Time usage: 0:00:37\n",
      "Time usage: 0:00:37\n",
      "Time usage: 0:00:37\n",
      "Time usage: 0:00:37\n",
      "Time usage: 0:00:37\n",
      "Time usage: 0:00:37\n",
      "Time usage: 0:00:37\n",
      "Time usage: 0:00:37\n",
      "Time usage: 0:00:37\n",
      "Time usage: 0:00:37\n",
      "Time usage: 0:00:37\n",
      "Time usage: 0:00:38\n",
      "Time usage: 0:00:38\n",
      "Time usage: 0:00:38\n",
      "Time usage: 0:00:38\n",
      "Time usage: 0:00:38\n",
      "Time usage: 0:00:38\n",
      "Time usage: 0:00:38\n",
      "Time usage: 0:00:38\n",
      "Time usage: 0:00:38\n",
      "Time usage: 0:00:38\n",
      "Time usage: 0:00:38\n",
      "Time usage: 0:00:38\n",
      "Time usage: 0:00:38\n",
      "Time usage: 0:00:38\n",
      "Time usage: 0:00:38\n",
      "Time usage: 0:00:38\n",
      "Time usage: 0:00:39\n",
      "Time usage: 0:00:39\n",
      "Time usage: 0:00:39\n",
      "Time usage: 0:00:39\n",
      "Time usage: 0:00:39\n",
      "Time usage: 0:00:39\n",
      "Time usage: 0:00:39\n",
      "Time usage: 0:00:39\n",
      "Time usage: 0:00:39\n",
      "Time usage: 0:00:39\n",
      "Time usage: 0:00:39\n",
      "Time usage: 0:00:39\n",
      "Time usage: 0:00:39\n",
      "Time usage: 0:00:39\n",
      "Time usage: 0:00:39\n",
      "Time usage: 0:00:39\n",
      "Time usage: 0:00:39\n",
      "Time usage: 0:00:40\n",
      "Time usage: 0:00:40\n",
      "Time usage: 0:00:40\n",
      "Time usage: 0:00:40\n",
      "Time usage: 0:00:40\n",
      "Time usage: 0:00:40\n",
      "Time usage: 0:00:40\n",
      "Time usage: 0:00:40\n",
      "Time usage: 0:00:40\n",
      "Time usage: 0:00:40\n",
      "Time usage: 0:00:40\n",
      "Optimization Iteration:  10501, Training Accurach:  90.6%\n",
      "Time usage: 0:00:40\n",
      "Time usage: 0:00:40\n",
      "Time usage: 0:00:40\n",
      "Time usage: 0:00:40\n",
      "Time usage: 0:00:40\n",
      "Time usage: 0:00:41\n",
      "Time usage: 0:00:41\n",
      "Time usage: 0:00:41\n",
      "Time usage: 0:00:41\n",
      "Time usage: 0:00:41\n",
      "Time usage: 0:00:41\n",
      "Time usage: 0:00:41\n",
      "Time usage: 0:00:41\n",
      "Time usage: 0:00:41\n",
      "Time usage: 0:00:41\n",
      "Time usage: 0:00:41\n",
      "Time usage: 0:00:41\n",
      "Time usage: 0:00:41\n",
      "Time usage: 0:00:41\n",
      "Time usage: 0:00:41\n",
      "Time usage: 0:00:41\n",
      "Time usage: 0:00:42\n",
      "Time usage: 0:00:42\n",
      "Time usage: 0:00:42\n",
      "Time usage: 0:00:42\n",
      "Time usage: 0:00:42\n",
      "Time usage: 0:00:42\n",
      "Time usage: 0:00:42\n",
      "Time usage: 0:00:42\n",
      "Time usage: 0:00:42\n",
      "Time usage: 0:00:42\n",
      "Time usage: 0:00:42\n",
      "Time usage: 0:00:42\n",
      "Time usage: 0:00:42\n",
      "Time usage: 0:00:42\n",
      "Time usage: 0:00:42\n",
      "Time usage: 0:00:42\n",
      "Time usage: 0:00:42\n",
      "Time usage: 0:00:43\n",
      "Time usage: 0:00:43\n",
      "Time usage: 0:00:43\n",
      "Time usage: 0:00:43\n",
      "Time usage: 0:00:43\n",
      "Time usage: 0:00:43\n",
      "Time usage: 0:00:43\n",
      "Time usage: 0:00:43\n",
      "Time usage: 0:00:43\n",
      "Time usage: 0:00:43\n",
      "Time usage: 0:00:43\n",
      "Time usage: 0:00:43\n",
      "Time usage: 0:00:43\n",
      "Time usage: 0:00:43\n",
      "Time usage: 0:00:43\n",
      "Time usage: 0:00:43\n",
      "Time usage: 0:00:43\n",
      "Time usage: 0:00:44\n",
      "Time usage: 0:00:44\n",
      "Time usage: 0:00:44\n",
      "Time usage: 0:00:44\n",
      "Time usage: 0:00:44\n",
      "Time usage: 0:00:44\n",
      "Time usage: 0:00:44\n",
      "Time usage: 0:00:44\n",
      "Time usage: 0:00:44\n",
      "Time usage: 0:00:44\n",
      "Time usage: 0:00:44\n",
      "Time usage: 0:00:44\n",
      "Time usage: 0:00:44\n",
      "Time usage: 0:00:44\n",
      "Time usage: 0:00:44\n",
      "Time usage: 0:00:44\n",
      "Time usage: 0:00:45\n",
      "Time usage: 0:00:45\n",
      "Time usage: 0:00:45\n",
      "Time usage: 0:00:45\n",
      "Time usage: 0:00:45\n",
      "Time usage: 0:00:45\n",
      "Time usage: 0:00:45\n",
      "Time usage: 0:00:45\n",
      "Time usage: 0:00:45\n",
      "Time usage: 0:00:45\n",
      "Time usage: 0:00:45\n",
      "Time usage: 0:00:45\n",
      "Time usage: 0:00:45\n",
      "Time usage: 0:00:45\n",
      "Time usage: 0:00:45\n",
      "Time usage: 0:00:45\n",
      "Time usage: 0:00:45\n",
      "Time usage: 0:00:46\n",
      "Time usage: 0:00:46\n",
      "Time usage: 0:00:46\n",
      "Time usage: 0:00:46\n",
      "Time usage: 0:00:46\n",
      "Time usage: 0:00:46\n",
      "Time usage: 0:00:46\n",
      "Time usage: 0:00:46\n",
      "Time usage: 0:00:46\n",
      "Time usage: 0:00:46\n",
      "Time usage: 0:00:46\n",
      "Time usage: 0:00:46\n",
      "Optimization Iteration:  10601, Training Accurach:  92.2%\n",
      "Time usage: 0:00:46\n",
      "Time usage: 0:00:46\n",
      "Time usage: 0:00:46\n"
     ]
    },
    {
     "name": "stdout",
     "output_type": "stream",
     "text": [
      "Time usage: 0:00:46\n",
      "Time usage: 0:00:46\n",
      "Time usage: 0:00:47\n",
      "Time usage: 0:00:47\n",
      "Time usage: 0:00:47\n",
      "Time usage: 0:00:47\n",
      "Time usage: 0:00:47\n",
      "Time usage: 0:00:47\n",
      "Time usage: 0:00:47\n",
      "Time usage: 0:00:47\n",
      "Time usage: 0:00:47\n",
      "Time usage: 0:00:47\n",
      "Time usage: 0:00:47\n",
      "Time usage: 0:00:47\n",
      "Time usage: 0:00:47\n",
      "Time usage: 0:00:47\n",
      "Time usage: 0:00:47\n",
      "Time usage: 0:00:47\n",
      "Time usage: 0:00:47\n",
      "Time usage: 0:00:48\n",
      "Time usage: 0:00:48\n",
      "Time usage: 0:00:48\n",
      "Time usage: 0:00:48\n",
      "Time usage: 0:00:48\n",
      "Time usage: 0:00:48\n",
      "Time usage: 0:00:48\n",
      "Time usage: 0:00:48\n",
      "Time usage: 0:00:48\n",
      "Time usage: 0:00:48\n",
      "Time usage: 0:00:48\n",
      "Time usage: 0:00:48\n",
      "Time usage: 0:00:48\n",
      "Time usage: 0:00:48\n",
      "Time usage: 0:00:48\n",
      "Time usage: 0:00:48\n",
      "Time usage: 0:00:48\n",
      "Time usage: 0:00:48\n",
      "Time usage: 0:00:49\n",
      "Time usage: 0:00:49\n",
      "Time usage: 0:00:49\n",
      "Time usage: 0:00:49\n",
      "Time usage: 0:00:49\n",
      "Time usage: 0:00:49\n",
      "Time usage: 0:00:49\n",
      "Time usage: 0:00:49\n",
      "Time usage: 0:00:49\n",
      "Time usage: 0:00:49\n",
      "Time usage: 0:00:49\n",
      "Time usage: 0:00:49\n",
      "Time usage: 0:00:49\n",
      "Time usage: 0:00:49\n",
      "Time usage: 0:00:49\n",
      "Time usage: 0:00:49\n",
      "Time usage: 0:00:49\n",
      "Time usage: 0:00:50\n",
      "Time usage: 0:00:50\n",
      "Time usage: 0:00:50\n",
      "Time usage: 0:00:50\n",
      "Time usage: 0:00:50\n",
      "Time usage: 0:00:50\n",
      "Time usage: 0:00:50\n",
      "Time usage: 0:00:50\n",
      "Time usage: 0:00:50\n",
      "Time usage: 0:00:50\n",
      "Time usage: 0:00:50\n",
      "Time usage: 0:00:50\n",
      "Time usage: 0:00:50\n",
      "Time usage: 0:00:50\n",
      "Time usage: 0:00:50\n",
      "Time usage: 0:00:50\n",
      "Time usage: 0:00:50\n",
      "Time usage: 0:00:51\n",
      "Time usage: 0:00:51\n",
      "Time usage: 0:00:51\n",
      "Time usage: 0:00:51\n",
      "Time usage: 0:00:51\n",
      "Time usage: 0:00:51\n",
      "Time usage: 0:00:51\n",
      "Time usage: 0:00:51\n",
      "Time usage: 0:00:51\n",
      "Time usage: 0:00:51\n",
      "Time usage: 0:00:51\n",
      "Time usage: 0:00:51\n",
      "Time usage: 0:00:51\n",
      "Time usage: 0:00:51\n",
      "Time usage: 0:00:51\n",
      "Time usage: 0:00:51\n",
      "Time usage: 0:00:51\n",
      "Time usage: 0:00:52\n",
      "Time usage: 0:00:52\n",
      "Time usage: 0:00:52\n",
      "Time usage: 0:00:52\n",
      "Time usage: 0:00:52\n",
      "Time usage: 0:00:52\n",
      "Time usage: 0:00:52\n",
      "Time usage: 0:00:52\n",
      "Time usage: 0:00:52\n",
      "Optimization Iteration:  10701, Training Accurach:  92.2%\n",
      "Time usage: 0:00:52\n",
      "Time usage: 0:00:52\n",
      "Time usage: 0:00:52\n"
     ]
    }
   ],
   "source": [
    "optimize(num_iterations=900) # We performed 100 iterations above."
   ]
  },
  {
   "cell_type": "code",
   "execution_count": 91,
   "metadata": {},
   "outputs": [
    {
     "name": "stdout",
     "output_type": "stream",
     "text": [
      "Accuracy on Test-Set: 93.6% (9359 / 10000)\n",
      "Example errors:\n"
     ]
    },
    {
     "data": {
      "image/png": "[encoded data removed]",
      "text/plain": [
       "<matplotlib.figure.Figure at 0x18c00c2d828>"
      ]
     },
     "metadata": {},
     "output_type": "display_data"
    }
   ],
   "source": [
    "print_test_accuracy(show_example_errors=True)"
   ]
  },
  {
   "cell_type": "code",
   "execution_count": 92,
   "metadata": {},
   "outputs": [
    {
     "name": "stdout",
     "output_type": "stream",
     "text": [
      "Optimization Iteration:      1, Training Accurach:  96.9%\n",
      "Optimization Iteration:    101, Training Accurach:  93.8%\n",
      "Optimization Iteration:    201, Training Accurach:  92.2%\n",
      "Optimization Iteration:    301, Training Accurach:  92.2%\n",
      "Optimization Iteration:    401, Training Accurach:  90.6%\n",
      "Optimization Iteration:    501, Training Accurach:  92.2%\n",
      "Optimization Iteration:    601, Training Accurach:  92.2%\n",
      "Optimization Iteration:    701, Training Accurach:  98.4%\n",
      "Optimization Iteration:    801, Training Accurach:  95.3%\n",
      "Optimization Iteration:    901, Training Accurach:  93.8%\n",
      "Optimization Iteration:   1001, Training Accurach:  95.3%\n",
      "Optimization Iteration:   1101, Training Accurach:  92.2%\n",
      "Optimization Iteration:   1201, Training Accurach:  96.9%\n",
      "Optimization Iteration:   1301, Training Accurach:  98.4%\n",
      "Optimization Iteration:   1401, Training Accurach:  98.4%\n"
     ]
    },
    {
     "ename": "KeyboardInterrupt",
     "evalue": "",
     "output_type": "error",
     "traceback": [
      "\u001b[1;31m---------------------------------------------------------------------------\u001b[0m",
      "\u001b[1;31mKeyboardInterrupt\u001b[0m                         Traceback (most recent call last)",
      "\u001b[1;32m<ipython-input-92-ca1a8ee5e77b>\u001b[0m in \u001b[0;36m<module>\u001b[1;34m()\u001b[0m\n\u001b[1;32m----> 1\u001b[1;33m \u001b[0moptimize\u001b[0m\u001b[1;33m(\u001b[0m\u001b[0mnum_iterations\u001b[0m\u001b[1;33m=\u001b[0m\u001b[1;36m9000\u001b[0m\u001b[1;33m)\u001b[0m \u001b[1;31m# We performed 1000 iterations above.\u001b[0m\u001b[1;33m\u001b[0m\u001b[0m\n\u001b[0m",
      "\u001b[1;32m<ipython-input-90-9ea9da354c8d>\u001b[0m in \u001b[0;36moptimize\u001b[1;34m(num_iterations)\u001b[0m\n\u001b[0;32m     14\u001b[0m         }\n\u001b[0;32m     15\u001b[0m \u001b[1;33m\u001b[0m\u001b[0m\n\u001b[1;32m---> 16\u001b[1;33m         \u001b[0msession\u001b[0m\u001b[1;33m.\u001b[0m\u001b[0mrun\u001b[0m\u001b[1;33m(\u001b[0m\u001b[0moptimizer\u001b[0m\u001b[1;33m,\u001b[0m \u001b[0mfeed_dict\u001b[0m\u001b[1;33m=\u001b[0m\u001b[0mfeed_dict_train\u001b[0m\u001b[1;33m)\u001b[0m\u001b[1;33m\u001b[0m\u001b[0m\n\u001b[0m\u001b[0;32m     17\u001b[0m \u001b[1;33m\u001b[0m\u001b[0m\n\u001b[0;32m     18\u001b[0m         \u001b[1;32mif\u001b[0m \u001b[0mi\u001b[0m\u001b[1;33m%\u001b[0m\u001b[1;36m100\u001b[0m \u001b[1;33m==\u001b[0m\u001b[1;36m0\u001b[0m\u001b[1;33m:\u001b[0m\u001b[1;33m\u001b[0m\u001b[0m\n",
      "\u001b[1;32mc:\\users\\pancake\\appdata\\local\\programs\\python\\python36\\lib\\site-packages\\tensorflow\\python\\client\\session.py\u001b[0m in \u001b[0;36mrun\u001b[1;34m(self, fetches, feed_dict, options, run_metadata)\u001b[0m\n\u001b[0;32m    893\u001b[0m     \u001b[1;32mtry\u001b[0m\u001b[1;33m:\u001b[0m\u001b[1;33m\u001b[0m\u001b[0m\n\u001b[0;32m    894\u001b[0m       result = self._run(None, fetches, feed_dict, options_ptr,\n\u001b[1;32m--> 895\u001b[1;33m                          run_metadata_ptr)\n\u001b[0m\u001b[0;32m    896\u001b[0m       \u001b[1;32mif\u001b[0m \u001b[0mrun_metadata\u001b[0m\u001b[1;33m:\u001b[0m\u001b[1;33m\u001b[0m\u001b[0m\n\u001b[0;32m    897\u001b[0m         \u001b[0mproto_data\u001b[0m \u001b[1;33m=\u001b[0m \u001b[0mtf_session\u001b[0m\u001b[1;33m.\u001b[0m\u001b[0mTF_GetBuffer\u001b[0m\u001b[1;33m(\u001b[0m\u001b[0mrun_metadata_ptr\u001b[0m\u001b[1;33m)\u001b[0m\u001b[1;33m\u001b[0m\u001b[0m\n",
      "\u001b[1;32mc:\\users\\pancake\\appdata\\local\\programs\\python\\python36\\lib\\site-packages\\tensorflow\\python\\client\\session.py\u001b[0m in \u001b[0;36m_run\u001b[1;34m(self, handle, fetches, feed_dict, options, run_metadata)\u001b[0m\n\u001b[0;32m   1126\u001b[0m     \u001b[1;32mif\u001b[0m \u001b[0mfinal_fetches\u001b[0m \u001b[1;32mor\u001b[0m \u001b[0mfinal_targets\u001b[0m \u001b[1;32mor\u001b[0m \u001b[1;33m(\u001b[0m\u001b[0mhandle\u001b[0m \u001b[1;32mand\u001b[0m \u001b[0mfeed_dict_tensor\u001b[0m\u001b[1;33m)\u001b[0m\u001b[1;33m:\u001b[0m\u001b[1;33m\u001b[0m\u001b[0m\n\u001b[0;32m   1127\u001b[0m       results = self._do_run(handle, final_targets, final_fetches,\n\u001b[1;32m-> 1128\u001b[1;33m                              feed_dict_tensor, options, run_metadata)\n\u001b[0m\u001b[0;32m   1129\u001b[0m     \u001b[1;32melse\u001b[0m\u001b[1;33m:\u001b[0m\u001b[1;33m\u001b[0m\u001b[0m\n\u001b[0;32m   1130\u001b[0m       \u001b[0mresults\u001b[0m \u001b[1;33m=\u001b[0m \u001b[1;33m[\u001b[0m\u001b[1;33m]\u001b[0m\u001b[1;33m\u001b[0m\u001b[0m\n",
      "\u001b[1;32mc:\\users\\pancake\\appdata\\local\\programs\\python\\python36\\lib\\site-packages\\tensorflow\\python\\client\\session.py\u001b[0m in \u001b[0;36m_do_run\u001b[1;34m(self, handle, target_list, fetch_list, feed_dict, options, run_metadata)\u001b[0m\n\u001b[0;32m   1342\u001b[0m     \u001b[1;32mif\u001b[0m \u001b[0mhandle\u001b[0m \u001b[1;32mis\u001b[0m \u001b[1;32mNone\u001b[0m\u001b[1;33m:\u001b[0m\u001b[1;33m\u001b[0m\u001b[0m\n\u001b[0;32m   1343\u001b[0m       return self._do_call(_run_fn, self._session, feeds, fetches, targets,\n\u001b[1;32m-> 1344\u001b[1;33m                            options, run_metadata)\n\u001b[0m\u001b[0;32m   1345\u001b[0m     \u001b[1;32melse\u001b[0m\u001b[1;33m:\u001b[0m\u001b[1;33m\u001b[0m\u001b[0m\n\u001b[0;32m   1346\u001b[0m       \u001b[1;32mreturn\u001b[0m \u001b[0mself\u001b[0m\u001b[1;33m.\u001b[0m\u001b[0m_do_call\u001b[0m\u001b[1;33m(\u001b[0m\u001b[0m_prun_fn\u001b[0m\u001b[1;33m,\u001b[0m \u001b[0mself\u001b[0m\u001b[1;33m.\u001b[0m\u001b[0m_session\u001b[0m\u001b[1;33m,\u001b[0m \u001b[0mhandle\u001b[0m\u001b[1;33m,\u001b[0m \u001b[0mfeeds\u001b[0m\u001b[1;33m,\u001b[0m \u001b[0mfetches\u001b[0m\u001b[1;33m)\u001b[0m\u001b[1;33m\u001b[0m\u001b[0m\n",
      "\u001b[1;32mc:\\users\\pancake\\appdata\\local\\programs\\python\\python36\\lib\\site-packages\\tensorflow\\python\\client\\session.py\u001b[0m in \u001b[0;36m_do_call\u001b[1;34m(self, fn, *args)\u001b[0m\n\u001b[0;32m   1348\u001b[0m   \u001b[1;32mdef\u001b[0m \u001b[0m_do_call\u001b[0m\u001b[1;33m(\u001b[0m\u001b[0mself\u001b[0m\u001b[1;33m,\u001b[0m \u001b[0mfn\u001b[0m\u001b[1;33m,\u001b[0m \u001b[1;33m*\u001b[0m\u001b[0margs\u001b[0m\u001b[1;33m)\u001b[0m\u001b[1;33m:\u001b[0m\u001b[1;33m\u001b[0m\u001b[0m\n\u001b[0;32m   1349\u001b[0m     \u001b[1;32mtry\u001b[0m\u001b[1;33m:\u001b[0m\u001b[1;33m\u001b[0m\u001b[0m\n\u001b[1;32m-> 1350\u001b[1;33m       \u001b[1;32mreturn\u001b[0m \u001b[0mfn\u001b[0m\u001b[1;33m(\u001b[0m\u001b[1;33m*\u001b[0m\u001b[0margs\u001b[0m\u001b[1;33m)\u001b[0m\u001b[1;33m\u001b[0m\u001b[0m\n\u001b[0m\u001b[0;32m   1351\u001b[0m     \u001b[1;32mexcept\u001b[0m \u001b[0merrors\u001b[0m\u001b[1;33m.\u001b[0m\u001b[0mOpError\u001b[0m \u001b[1;32mas\u001b[0m \u001b[0me\u001b[0m\u001b[1;33m:\u001b[0m\u001b[1;33m\u001b[0m\u001b[0m\n\u001b[0;32m   1352\u001b[0m       \u001b[0mmessage\u001b[0m \u001b[1;33m=\u001b[0m \u001b[0mcompat\u001b[0m\u001b[1;33m.\u001b[0m\u001b[0mas_text\u001b[0m\u001b[1;33m(\u001b[0m\u001b[0me\u001b[0m\u001b[1;33m.\u001b[0m\u001b[0mmessage\u001b[0m\u001b[1;33m)\u001b[0m\u001b[1;33m\u001b[0m\u001b[0m\n",
      "\u001b[1;32mc:\\users\\pancake\\appdata\\local\\programs\\python\\python36\\lib\\site-packages\\tensorflow\\python\\client\\session.py\u001b[0m in \u001b[0;36m_run_fn\u001b[1;34m(session, feed_dict, fetch_list, target_list, options, run_metadata)\u001b[0m\n\u001b[0;32m   1327\u001b[0m           return tf_session.TF_Run(session, options,\n\u001b[0;32m   1328\u001b[0m                                    \u001b[0mfeed_dict\u001b[0m\u001b[1;33m,\u001b[0m \u001b[0mfetch_list\u001b[0m\u001b[1;33m,\u001b[0m \u001b[0mtarget_list\u001b[0m\u001b[1;33m,\u001b[0m\u001b[1;33m\u001b[0m\u001b[0m\n\u001b[1;32m-> 1329\u001b[1;33m                                    status, run_metadata)\n\u001b[0m\u001b[0;32m   1330\u001b[0m \u001b[1;33m\u001b[0m\u001b[0m\n\u001b[0;32m   1331\u001b[0m     \u001b[1;32mdef\u001b[0m \u001b[0m_prun_fn\u001b[0m\u001b[1;33m(\u001b[0m\u001b[0msession\u001b[0m\u001b[1;33m,\u001b[0m \u001b[0mhandle\u001b[0m\u001b[1;33m,\u001b[0m \u001b[0mfeed_dict\u001b[0m\u001b[1;33m,\u001b[0m \u001b[0mfetch_list\u001b[0m\u001b[1;33m)\u001b[0m\u001b[1;33m:\u001b[0m\u001b[1;33m\u001b[0m\u001b[0m\n",
      "\u001b[1;31mKeyboardInterrupt\u001b[0m: "
     ]
    }
   ],
   "source": [
    "optimize(num_iterations=9000) # We performed 1000 iterations above."
   ]
  },
  {
   "cell_type": "code",
   "execution_count": 93,
   "metadata": {},
   "outputs": [
    {
     "name": "stdout",
     "output_type": "stream",
     "text": [
      "Accuracy on Test-Set: 96.6% (9664 / 10000)\n",
      "Example errors:\n"
     ]
    },
    {
     "data": {
      "image/png": "[encoded data removed]",
      "text/plain": [
       "<matplotlib.figure.Figure at 0x18c00c32748>"
      ]
     },
     "metadata": {},
     "output_type": "display_data"
    },
    {
     "name": "stdout",
     "output_type": "stream",
     "text": [
      "Confusion Matrix:\n",
      "[[ 966    0    1    0    0    1    6    3    3    0]\n",
      " [   0 1116    4    1    0    0    3    0   11    0]\n",
      " [   7    2  982    9    5    1    1   11   14    0]\n",
      " [   0    0    5  980    0    2    0   12   11    0]\n",
      " [   1    2    2    0  946    0    5    2    2   22]\n",
      " [   3    2    1   17    0  852    6    1    7    3]\n",
      " [   8    3    1    1    5    1  937    0    2    0]\n",
      " [   1    5   15    2    1    0    0  989    1   14]\n",
      " [   6    1    2    8    3    0    5    9  934    6]\n",
      " [   7    6    1    4   10    3    0    9    7  962]]\n"
     ]
    },
    {
     "data": {
      "image/png": "[encoded data removed]",
      "text/plain": [
       "<matplotlib.figure.Figure at 0x18c00211cf8>"
      ]
     },
     "metadata": {},
     "output_type": "display_data"
    }
   ],
   "source": [
    "print_test_accuracy(show_example_errors=True,\n",
    "                    show_confusion_matrix=True)"
   ]
  },
  {
   "cell_type": "code",
   "execution_count": null,
   "metadata": {},
   "outputs": [],
   "source": []
  }
 ],
 "metadata": {
  "kernelspec": {
   "display_name": "Python 3",
   "language": "python",
   "name": "python3"
  },
  "language_info": {
   "codemirror_mode": {
    "name": "ipython",
    "version": 3
   },
   "file_extension": ".py",
   "mimetype": "text/x-python",
   "name": "python",
   "nbconvert_exporter": "python",
   "pygments_lexer": "ipython3",
   "version": "3.6.0"
  }
 },
 "nbformat": 4,
 "nbformat_minor": 2
}
